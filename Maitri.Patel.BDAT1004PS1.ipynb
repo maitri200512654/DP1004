{
 "cells": [
  {
   "cell_type": "markdown",
   "id": "bac184d3",
   "metadata": {},
   "source": [
    "Question 1"
   ]
  },
  {
   "cell_type": "code",
   "execution_count": 1,
   "id": "7b97310c",
   "metadata": {},
   "outputs": [
    {
     "name": "stdout",
     "output_type": "stream",
     "text": [
      "<class 'int'>\n",
      "<class 'float'>\n"
     ]
    }
   ],
   "source": [
    "print(type(5))\n",
    "print(type(5.0))"
   ]
  },
  {
   "cell_type": "code",
   "execution_count": 2,
   "id": "418661a4",
   "metadata": {},
   "outputs": [
    {
     "name": "stdout",
     "output_type": "stream",
     "text": [
      "<class 'bool'>\n"
     ]
    }
   ],
   "source": [
    "print(type(5>1))"
   ]
  },
  {
   "cell_type": "code",
   "execution_count": 3,
   "id": "29821339",
   "metadata": {},
   "outputs": [
    {
     "name": "stdout",
     "output_type": "stream",
     "text": [
      "<class 'str'>\n"
     ]
    }
   ],
   "source": [
    "print(type('5'))"
   ]
  },
  {
   "cell_type": "code",
   "execution_count": 4,
   "id": "f217853d",
   "metadata": {},
   "outputs": [
    {
     "name": "stdout",
     "output_type": "stream",
     "text": [
      "<class 'int'>\n"
     ]
    }
   ],
   "source": [
    "print(type(5*2))"
   ]
  },
  {
   "cell_type": "code",
   "execution_count": 5,
   "id": "ae1cba05",
   "metadata": {},
   "outputs": [
    {
     "name": "stdout",
     "output_type": "stream",
     "text": [
      "<class 'str'>\n"
     ]
    }
   ],
   "source": [
    "print(type('5'*2))"
   ]
  },
  {
   "cell_type": "code",
   "execution_count": 6,
   "id": "72c5c73e",
   "metadata": {},
   "outputs": [
    {
     "name": "stdout",
     "output_type": "stream",
     "text": [
      "<class 'str'>\n"
     ]
    }
   ],
   "source": [
    "print(type('5'+'2'))"
   ]
  },
  {
   "cell_type": "code",
   "execution_count": 7,
   "id": "38eac31a",
   "metadata": {},
   "outputs": [
    {
     "name": "stdout",
     "output_type": "stream",
     "text": [
      "<class 'float'>\n"
     ]
    }
   ],
   "source": [
    "print(type(5/2))"
   ]
  },
  {
   "cell_type": "code",
   "execution_count": 8,
   "id": "96d05c96",
   "metadata": {},
   "outputs": [
    {
     "name": "stdout",
     "output_type": "stream",
     "text": [
      "<class 'int'>\n"
     ]
    }
   ],
   "source": [
    "print(type(5%2))"
   ]
  },
  {
   "cell_type": "code",
   "execution_count": 9,
   "id": "31ad7c06",
   "metadata": {},
   "outputs": [
    {
     "name": "stdout",
     "output_type": "stream",
     "text": [
      "<class 'set'>\n"
     ]
    }
   ],
   "source": [
    "print(type({5,2,1}))"
   ]
  },
  {
   "cell_type": "code",
   "execution_count": 10,
   "id": "0625f348",
   "metadata": {},
   "outputs": [
    {
     "name": "stdout",
     "output_type": "stream",
     "text": [
      "<class 'bool'>\n"
     ]
    }
   ],
   "source": [
    "print(type(5==3))"
   ]
  },
  {
   "cell_type": "code",
   "execution_count": 11,
   "id": "2eebd9cd",
   "metadata": {},
   "outputs": [
    {
     "name": "stdout",
     "output_type": "stream",
     "text": [
      "<class 'float'>\n"
     ]
    }
   ],
   "source": [
    "print(type(3.14))"
   ]
  },
  {
   "cell_type": "markdown",
   "id": "cc8f0e68",
   "metadata": {},
   "source": [
    "Question 2(a)"
   ]
  },
  {
   "cell_type": "code",
   "execution_count": 12,
   "id": "7d662aed",
   "metadata": {},
   "outputs": [
    {
     "data": {
      "text/plain": [
       "34"
      ]
     },
     "execution_count": 12,
     "metadata": {},
     "output_type": "execute_result"
    }
   ],
   "source": [
    "len('Supercalifragilisticexpialidocious')"
   ]
  },
  {
   "cell_type": "markdown",
   "id": "c727cbdf",
   "metadata": {},
   "source": [
    "Question 2(b)"
   ]
  },
  {
   "cell_type": "code",
   "execution_count": 26,
   "id": "7aacb471",
   "metadata": {},
   "outputs": [
    {
     "name": "stdout",
     "output_type": "stream",
     "text": [
      "found\n"
     ]
    }
   ],
   "source": [
    "letter = 'Supercalifragilisticexpialidocious'\n",
    "\n",
    "if 'ice' in letter:\n",
    "    print('found')\n",
    "else:\n",
    "    print('not found')"
   ]
  },
  {
   "cell_type": "markdown",
   "id": "7fb02d96",
   "metadata": {},
   "source": [
    "Question 2(c)"
   ]
  },
  {
   "cell_type": "code",
   "execution_count": 32,
   "id": "efcfbb7f",
   "metadata": {},
   "outputs": [
    {
     "name": "stdout",
     "output_type": "stream",
     "text": [
      "34\n",
      "27\n",
      "34\n",
      "Supercalifragilisticexpialidocious\n"
     ]
    }
   ],
   "source": [
    "a='Supercalifragilisticexpialidocious'\n",
    "b='Honorificabilitudinitatibus'\n",
    "c='Bababadalgharaghtakamminarronnkonn'\n",
    "print(len(a))\n",
    "print(len(b))\n",
    "print(len(c))\n",
    "print(max(a,b,c))"
   ]
  },
  {
   "cell_type": "markdown",
   "id": "17c8ee8e",
   "metadata": {},
   "source": [
    "Question 2(d)"
   ]
  },
  {
   "cell_type": "code",
   "execution_count": 36,
   "id": "75a5903f",
   "metadata": {},
   "outputs": [
    {
     "name": "stdout",
     "output_type": "stream",
     "text": [
      "['Bartok', 'Bellini', 'Berlioz', 'Bernstein', 'Borodin', 'Brian', 'Buxtehude']\n"
     ]
    }
   ],
   "source": [
    "a=['Berlioz', 'Borodin', 'Brian','Bartok', 'Bellini', 'Buxtehude', 'Bernstein']\n",
    "a.sort()\n",
    "print(a)\n",
    "   "
   ]
  },
  {
   "cell_type": "markdown",
   "id": "94483386",
   "metadata": {},
   "source": [
    "Question 3"
   ]
  },
  {
   "cell_type": "code",
   "execution_count": 53,
   "id": "374a6c63",
   "metadata": {},
   "outputs": [
    {
     "name": "stdout",
     "output_type": "stream",
     "text": [
      "Enter first side2\n",
      "Enter second side2\n",
      "Enter third side2\n",
      "1.7320508075688772\n"
     ]
    }
   ],
   "source": [
    "a=int(input(\"Enter first side\"))\n",
    "b=int(input(\"Enter second side\"))\n",
    "c=int(input(\"Enter third side\"))\n",
    "    \n",
    "def triangleArea(a,b,c):\n",
    "    s=(a+b+c)/2\n",
    "    area=(s*(s-a)*(s-b)*(s-c))**0.5\n",
    "    print(area)\n",
    "triangleArea(a,b,c)"
   ]
  },
  {
   "cell_type": "markdown",
   "id": "2db2d036",
   "metadata": {},
   "source": [
    "Question 4"
   ]
  },
  {
   "cell_type": "code",
   "execution_count": 62,
   "id": "54f9e637",
   "metadata": {},
   "outputs": [
    {
     "name": "stdout",
     "output_type": "stream",
     "text": [
      "Total Number of element:5\n",
      "Element 0:25\n",
      "Element 1:47\n",
      "Element 2:42\n",
      "Element 3:56\n",
      "Element 4:32\n",
      "Even list [42, 56, 32]\n",
      "Odd list [25, 47]\n"
     ]
    }
   ],
   "source": [
    "input(\"Total Number of element:\")\n",
    "a=int(input(\"Element 0:\"))\n",
    "b=int(input(\"Element 1:\"))\n",
    "c=int(input(\"Element 2:\"))\n",
    "d=int(input(\"Element 3:\"))\n",
    "e=int(input(\"Element 4:\"))\n",
    "\n",
    "num=[a,b,c,d,e]\n",
    "even=[]\n",
    "odd=[]\n",
    "for i in num:\n",
    "    if (i%2==0):\n",
    "        even.append(i)\n",
    "    else:\n",
    "        odd.append(i)\n",
    "        \n",
    "print(\"Even list\",even)\n",
    "print(\"Odd list\",odd)\n",
    "    \n"
   ]
  },
  {
   "cell_type": "markdown",
   "id": "333b9372",
   "metadata": {},
   "source": [
    "Question 5(a)"
   ]
  },
  {
   "cell_type": "code",
   "execution_count": 109,
   "id": "50751dc3",
   "metadata": {},
   "outputs": [
    {
     "data": {
      "text/plain": [
       "True"
      ]
     },
     "execution_count": 109,
     "metadata": {},
     "output_type": "execute_result"
    }
   ],
   "source": [
    "def inside(x,y,x1,y1,x2,y2):\n",
    "    if(x>x1 and x<x2 and y>y1 and y<y2):\n",
    "        return True\n",
    "    else:\n",
    "        return False\n",
    "inside(1,1,0,0,2,3)\n"
   ]
  },
  {
   "cell_type": "code",
   "execution_count": 110,
   "id": "0fdb43df",
   "metadata": {},
   "outputs": [
    {
     "data": {
      "text/plain": [
       "False"
      ]
     },
     "execution_count": 110,
     "metadata": {},
     "output_type": "execute_result"
    }
   ],
   "source": [
    "inside(-1,-1,0,0,2,3)"
   ]
  },
  {
   "cell_type": "markdown",
   "id": "bd11f492",
   "metadata": {},
   "source": [
    "Question 5(b)"
   ]
  },
  {
   "cell_type": "code",
   "execution_count": 123,
   "id": "85101fe5",
   "metadata": {},
   "outputs": [
    {
     "name": "stdout",
     "output_type": "stream",
     "text": [
      "enter value of x1:0.3\n",
      "enter value of y1:0.5\n",
      "enter value of x2:1.1\n",
      "enter value of y2:0.7\n",
      "point not lies in rectangle\n"
     ]
    }
   ],
   "source": [
    "def inside():\n",
    "    x=1\n",
    "    y=1\n",
    "    x1=float(input(\"enter value of x1:\"))\n",
    "    y1=float(input(\"enter value of y1:\"))\n",
    "    x2=float(input(\"enter value of x2:\"))\n",
    "    y2=float(input(\"enter value of y2:\"))\n",
    "    if(x>x1 and x<x2 and y>y1 and y<y2):\n",
    "        print(\"point lies in rectangle\")\n",
    "    else:\n",
    "        print(\"point not lies in rectangle\")\n",
    "\n",
    "\n",
    "inside()\n",
    "    "
   ]
  },
  {
   "cell_type": "code",
   "execution_count": 124,
   "id": "c7bbc889",
   "metadata": {},
   "outputs": [
    {
     "name": "stdout",
     "output_type": "stream",
     "text": [
      "enter value of x1:0.5\n",
      "enter value of y1:0.2\n",
      "enter value of x2:1.1\n",
      "enter value of y2:2\n",
      "point lies in rectangle\n"
     ]
    }
   ],
   "source": [
    "inside()"
   ]
  },
  {
   "cell_type": "markdown",
   "id": "eeb4e785",
   "metadata": {},
   "source": [
    "Question 6"
   ]
  },
  {
   "cell_type": "code",
   "execution_count": 169,
   "id": "e7a5216c",
   "metadata": {},
   "outputs": [
    {
     "name": "stdout",
     "output_type": "stream",
     "text": [
      "enter letter:Broad\n",
      "roadbay\n"
     ]
    }
   ],
   "source": [
    "vowel=['a','e','i','o','u','A','E','I','O','U']\n",
    "\n",
    "def pig():\n",
    "    a=input(\"enter letter:\")    \n",
    "    if a[0] in vowel:\n",
    "        print((a+\"way\").lower())\n",
    "    else:\n",
    "        print((a[1:]+a[0]+\"ay\").lower())\n",
    "        \n",
    "pig()"
   ]
  },
  {
   "cell_type": "markdown",
   "id": "abe2bd0e",
   "metadata": {},
   "source": [
    "Question 7"
   ]
  },
  {
   "cell_type": "code",
   "execution_count": 201,
   "id": "a17c03c3",
   "metadata": {},
   "outputs": [
    {
     "name": "stdout",
     "output_type": "stream",
     "text": [
      "{'AB': 13, 'B': 1, 'O': 15, 'A': 15, '': 1}\n"
     ]
    }
   ],
   "source": [
    "def bldcount():\n",
    "    infile = open(\"bloodtype1.txt\")\n",
    "    a=infile.read()\n",
    "    Mylist=a.replace('\\n','').split(\" \")\n",
    "    #print(Mylist)\n",
    "    x={}\n",
    "    for i in Mylist:\n",
    "        x[i]=Mylist.count(i)\n",
    "    print(x)\n",
    "bldcount()\n"
   ]
  },
  {
   "cell_type": "code",
   "execution_count": null,
   "id": "944c407f",
   "metadata": {},
   "outputs": [],
   "source": [
    "\n",
    "    \n"
   ]
  },
  {
   "cell_type": "markdown",
   "id": "8ca49dca",
   "metadata": {},
   "source": [
    "Question 8"
   ]
  },
  {
   "cell_type": "code",
   "execution_count": 6,
   "id": "5fee3332",
   "metadata": {},
   "outputs": [
    {
     "name": "stdout",
     "output_type": "stream",
     "text": [
      "AUD\t1.0345157\tAustralian Dollar\n",
      "CHF\t1.0237414\tSwiss Franc\n",
      "CNY\t0.1550176\tChinese Yuan\n",
      "DKK\t0.1651442\tDanish Krone\n",
      "EUR\t1.2296544\tEuro\n",
      "GBP\t1.5550989\tBritish Pound\n",
      "HKD\t0.1270207\tHong Kong Dollar\n",
      "INR\t0.0177643\tIndian Rupee\n",
      "JPY\t0.01241401\tJapanese Yen\n",
      "MXN\t0.0751848\tMexican Peso\n",
      "MYR\t0.3145411\tMalaysian Ringgit\n",
      "NOK\t0.1677063\tNorwegian Krone\n",
      "NZD\t0.8003591\tNew Zealand Dollar\n",
      "PHP\t0.0233234\tPhilippine Peso\n",
      "SEK\t0.148269\tSwedish Krona\n",
      "SGD\t0.788871\tSingapore Dollar\n",
      "THB\t0.0313789\tThai Baht\n"
     ]
    }
   ],
   "source": [
    "infile = open(\"currencies.txt\")\n",
    "print(infile.read())"
   ]
  },
  {
   "cell_type": "code",
   "execution_count": 4,
   "id": "0b5f0b8c",
   "metadata": {},
   "outputs": [
    {
     "name": "stdout",
     "output_type": "stream",
     "text": [
      "['AUD\\t1.0345157\\tAustralian', 'Dollar\\nCHF\\t1.0237414\\tSwiss', 'Franc\\nCNY\\t0.1550176\\tChinese', 'Yuan\\nDKK\\t0.1651442\\tDanish', 'Krone\\nEUR\\t1.2296544\\tEuro\\nGBP\\t1.5550989\\tBritish', 'Pound\\nHKD\\t0.1270207\\tHong', 'Kong', 'Dollar\\nINR\\t0.0177643\\tIndian', 'Rupee\\nJPY\\t0.01241401\\tJapanese', 'Yen\\nMXN\\t0.0751848\\tMexican', 'Peso\\nMYR\\t0.3145411\\tMalaysian', 'Ringgit\\nNOK\\t0.1677063\\tNorwegian', 'Krone\\nNZD\\t0.8003591\\tNew', 'Zealand', 'Dollar\\nPHP\\t0.0233234\\tPhilippine', 'Peso\\nSEK\\t0.148269\\tSwedish', 'Krona\\nSGD\\t0.788871\\tSingapore', 'Dollar\\nTHB\\t0.0313789\\tThai', 'Baht']\n"
     ]
    }
   ],
   "source": [
    "infile=open(\"currencies.txt\")\n",
    "a=infile.read()\n",
    "mylist=a.split(\" \")\n",
    "print(mylist)\n",
    "\n",
    "    \n",
    "\n",
    "        \n",
    "    "
   ]
  },
  {
   "cell_type": "markdown",
   "id": "d98cf286",
   "metadata": {},
   "source": [
    "Question 9"
   ]
  },
  {
   "cell_type": "markdown",
   "id": "15a52809",
   "metadata": {},
   "source": [
    "1)Trying to add incompatible variables"
   ]
  },
  {
   "cell_type": "code",
   "execution_count": 11,
   "id": "1793702a",
   "metadata": {},
   "outputs": [
    {
     "ename": "TypeError",
     "evalue": "can only concatenate str (not \"int\") to str",
     "output_type": "error",
     "traceback": [
      "\u001b[1;31m---------------------------------------------------------------------------\u001b[0m",
      "\u001b[1;31mTypeError\u001b[0m                                 Traceback (most recent call last)",
      "Input \u001b[1;32mIn [11]\u001b[0m, in \u001b[0;36m<cell line: 1>\u001b[1;34m()\u001b[0m\n\u001b[1;32m----> 1\u001b[0m \u001b[38;5;28mprint\u001b[39m(\u001b[38;5;124;43m'\u001b[39;49m\u001b[38;5;124;43ma\u001b[39;49m\u001b[38;5;124;43m'\u001b[39;49m\u001b[38;5;241;43m+\u001b[39;49m\u001b[38;5;241;43m2\u001b[39;49m)\n",
      "\u001b[1;31mTypeError\u001b[0m: can only concatenate str (not \"int\") to str"
     ]
    }
   ],
   "source": [
    "print('a'+2)"
   ]
  },
  {
   "cell_type": "markdown",
   "id": "81df2774",
   "metadata": {},
   "source": [
    "2)Referring to the 12th item of a list that has only 10 items"
   ]
  },
  {
   "cell_type": "code",
   "execution_count": 13,
   "id": "f4e66d98",
   "metadata": {},
   "outputs": [
    {
     "ename": "IndexError",
     "evalue": "list index out of range",
     "output_type": "error",
     "traceback": [
      "\u001b[1;31m---------------------------------------------------------------------------\u001b[0m",
      "\u001b[1;31mIndexError\u001b[0m                                Traceback (most recent call last)",
      "Input \u001b[1;32mIn [13]\u001b[0m, in \u001b[0;36m<cell line: 2>\u001b[1;34m()\u001b[0m\n\u001b[0;32m      1\u001b[0m color\u001b[38;5;241m=\u001b[39m[\u001b[38;5;124m'\u001b[39m\u001b[38;5;124mred\u001b[39m\u001b[38;5;124m'\u001b[39m,\u001b[38;5;124m'\u001b[39m\u001b[38;5;124myellow\u001b[39m\u001b[38;5;124m'\u001b[39m,\u001b[38;5;124m'\u001b[39m\u001b[38;5;124mblack\u001b[39m\u001b[38;5;124m'\u001b[39m,\u001b[38;5;124m'\u001b[39m\u001b[38;5;124mblue\u001b[39m\u001b[38;5;124m'\u001b[39m,\u001b[38;5;124m'\u001b[39m\u001b[38;5;124mpurple\u001b[39m\u001b[38;5;124m'\u001b[39m,\u001b[38;5;124m'\u001b[39m\u001b[38;5;124mbrown\u001b[39m\u001b[38;5;124m'\u001b[39m,\u001b[38;5;124m'\u001b[39m\u001b[38;5;124mwhite\u001b[39m\u001b[38;5;124m'\u001b[39m,\u001b[38;5;124m'\u001b[39m\u001b[38;5;124mgreen\u001b[39m\u001b[38;5;124m'\u001b[39m,\u001b[38;5;124m'\u001b[39m\u001b[38;5;124morange\u001b[39m\u001b[38;5;124m'\u001b[39m,\u001b[38;5;124m'\u001b[39m\u001b[38;5;124mviolet\u001b[39m\u001b[38;5;124m'\u001b[39m]\n\u001b[1;32m----> 2\u001b[0m \u001b[43mcolor\u001b[49m\u001b[43m[\u001b[49m\u001b[38;5;241;43m11\u001b[39;49m\u001b[43m]\u001b[49m\n",
      "\u001b[1;31mIndexError\u001b[0m: list index out of range"
     ]
    }
   ],
   "source": [
    "color=['red','yellow','black','blue','purple','brown','white','green','orange','violet']\n",
    "color[11]"
   ]
  },
  {
   "cell_type": "markdown",
   "id": "75f48541",
   "metadata": {},
   "source": [
    "3)Using a value that is out of range for a function’s input"
   ]
  },
  {
   "cell_type": "code",
   "execution_count": 17,
   "id": "85ad3409",
   "metadata": {},
   "outputs": [
    {
     "ename": "ValueError",
     "evalue": "math domain error",
     "output_type": "error",
     "traceback": [
      "\u001b[1;31m---------------------------------------------------------------------------\u001b[0m",
      "\u001b[1;31mValueError\u001b[0m                                Traceback (most recent call last)",
      "Input \u001b[1;32mIn [17]\u001b[0m, in \u001b[0;36m<cell line: 2>\u001b[1;34m()\u001b[0m\n\u001b[0;32m      1\u001b[0m \u001b[38;5;28;01mimport\u001b[39;00m \u001b[38;5;21;01mmath\u001b[39;00m\n\u001b[1;32m----> 2\u001b[0m \u001b[43mmath\u001b[49m\u001b[38;5;241;43m.\u001b[39;49m\u001b[43msqrt\u001b[49m\u001b[43m(\u001b[49m\u001b[38;5;241;43m-\u001b[39;49m\u001b[38;5;241;43m1.2\u001b[39;49m\u001b[43m)\u001b[49m\n",
      "\u001b[1;31mValueError\u001b[0m: math domain error"
     ]
    }
   ],
   "source": [
    "import math\n",
    "math.sqrt(-1.2)"
   ]
  },
  {
   "cell_type": "markdown",
   "id": "28f1029c",
   "metadata": {},
   "source": [
    "4)Using an undeclared variable"
   ]
  },
  {
   "cell_type": "code",
   "execution_count": 18,
   "id": "853e1f24",
   "metadata": {},
   "outputs": [
    {
     "ename": "NameError",
     "evalue": "name 'b' is not defined",
     "output_type": "error",
     "traceback": [
      "\u001b[1;31m---------------------------------------------------------------------------\u001b[0m",
      "\u001b[1;31mNameError\u001b[0m                                 Traceback (most recent call last)",
      "Input \u001b[1;32mIn [18]\u001b[0m, in \u001b[0;36m<cell line: 2>\u001b[1;34m()\u001b[0m\n\u001b[0;32m      1\u001b[0m a\u001b[38;5;241m=\u001b[39m\u001b[38;5;241m4\u001b[39m\n\u001b[1;32m----> 2\u001b[0m \u001b[38;5;28mprint\u001b[39m(\u001b[38;5;124m\"\u001b[39m\u001b[38;5;124menter number\u001b[39m\u001b[38;5;124m\"\u001b[39m,\u001b[43mb\u001b[49m)\n",
      "\u001b[1;31mNameError\u001b[0m: name 'b' is not defined"
     ]
    }
   ],
   "source": [
    "a=4\n",
    "print(\"enter number\",b)"
   ]
  },
  {
   "cell_type": "markdown",
   "id": "dbb86817",
   "metadata": {},
   "source": [
    "5)Trying to open a file that does not exist, such as mistyping the file name or looking in the wrong directory."
   ]
  },
  {
   "cell_type": "code",
   "execution_count": 19,
   "id": "d0622da9",
   "metadata": {},
   "outputs": [
    {
     "ename": "FileNotFoundError",
     "evalue": "[Errno 2] No such file or directory: 'curencies.txt'",
     "output_type": "error",
     "traceback": [
      "\u001b[1;31m---------------------------------------------------------------------------\u001b[0m",
      "\u001b[1;31mFileNotFoundError\u001b[0m                         Traceback (most recent call last)",
      "Input \u001b[1;32mIn [19]\u001b[0m, in \u001b[0;36m<cell line: 1>\u001b[1;34m()\u001b[0m\n\u001b[1;32m----> 1\u001b[0m infile\u001b[38;5;241m=\u001b[39m\u001b[38;5;28;43mopen\u001b[39;49m\u001b[43m(\u001b[49m\u001b[38;5;124;43m'\u001b[39;49m\u001b[38;5;124;43mcurencies.txt\u001b[39;49m\u001b[38;5;124;43m'\u001b[39;49m\u001b[43m)\u001b[49m\n\u001b[0;32m      2\u001b[0m \u001b[38;5;28mprint\u001b[39m(infile)\n",
      "\u001b[1;31mFileNotFoundError\u001b[0m: [Errno 2] No such file or directory: 'curencies.txt'"
     ]
    }
   ],
   "source": [
    "infile=open('curencies.txt')\n",
    "print(infile)"
   ]
  },
  {
   "cell_type": "markdown",
   "id": "1134d040",
   "metadata": {},
   "source": [
    "Question 10"
   ]
  },
  {
   "cell_type": "code",
   "execution_count": 200,
   "id": "afc781aa",
   "metadata": {},
   "outputs": [
    {
     "name": "stdout",
     "output_type": "stream",
     "text": [
      "enter string:apple\n",
      "['a', 'p', 'p', 'l', 'e']\n",
      "dict_values([1, 2, 1, 1])\n"
     ]
    }
   ],
   "source": [
    "def frequencies():\n",
    "    a=input(\"enter string:\")\n",
    "    Mylist=list(a)\n",
    "    print(Mylist)\n",
    "    x={}\n",
    "    for i in Mylist:\n",
    "        x[i]=Mylist.count(i)\n",
    "    print(x.values())\n",
    "    \n",
    "    \n",
    "frequencies()"
   ]
  },
  {
   "cell_type": "code",
   "execution_count": null,
   "id": "f8d11dfd",
   "metadata": {},
   "outputs": [],
   "source": []
  },
  {
   "cell_type": "code",
   "execution_count": null,
   "id": "64625b3f",
   "metadata": {},
   "outputs": [],
   "source": []
  },
  {
   "cell_type": "code",
   "execution_count": null,
   "id": "91ba752a",
   "metadata": {},
   "outputs": [],
   "source": []
  }
 ],
 "metadata": {
  "kernelspec": {
   "display_name": "Python 3 (ipykernel)",
   "language": "python",
   "name": "python3"
  },
  "language_info": {
   "codemirror_mode": {
    "name": "ipython",
    "version": 3
   },
   "file_extension": ".py",
   "mimetype": "text/x-python",
   "name": "python",
   "nbconvert_exporter": "python",
   "pygments_lexer": "ipython3",
   "version": "3.9.12"
  }
 },
 "nbformat": 4,
 "nbformat_minor": 5
}
